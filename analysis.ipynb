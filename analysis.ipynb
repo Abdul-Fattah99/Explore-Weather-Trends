{
 "cells": [
  {
   "cell_type": "markdown",
   "metadata": {},
   "source": [
    "### Exploring Weather Trends\n",
    "\n",
    "Analyze local and global temperature data and compare the temperature trends where in a particular city to overall global temperature trends. The goal is to create a visualization and prepare a write up describing the similarities and differences between global temperature trends and temperature trends in the closest big city\n",
    "\n",
    "First, I live in Lagos, Nigeria, So i extracted the lagos, Nigeria data from the database using SQL\n",
    "\n",
    "##### SELECT * FROM city_data WHERE city = 'Lagos' AND country = 'Nigeria'\n",
    "\n",
    "I also extracted the global dataset from the database using SQL\n",
    "\n",
    "##### SELECT * FROM global_data\n"
   ]
  },
  {
   "cell_type": "code",
   "execution_count": 7,
   "metadata": {},
   "outputs": [],
   "source": [
    "#import libraries\n",
    "import pandas as pd\n",
    "import numpy as np\n",
    "import seaborn as sns\n",
    "from matplotlib import pyplot as plt"
   ]
  },
  {
   "cell_type": "code",
   "execution_count": 38,
   "metadata": {},
   "outputs": [
    {
     "data": {
      "text/html": [
       "<div>\n",
       "<style scoped>\n",
       "    .dataframe tbody tr th:only-of-type {\n",
       "        vertical-align: middle;\n",
       "    }\n",
       "\n",
       "    .dataframe tbody tr th {\n",
       "        vertical-align: top;\n",
       "    }\n",
       "\n",
       "    .dataframe thead th {\n",
       "        text-align: right;\n",
       "    }\n",
       "</style>\n",
       "<table border=\"1\" class=\"dataframe\">\n",
       "  <thead>\n",
       "    <tr style=\"text-align: right;\">\n",
       "      <th></th>\n",
       "      <th>year_city</th>\n",
       "      <th>city</th>\n",
       "      <th>country</th>\n",
       "      <th>avg_temp_city</th>\n",
       "      <th>year_glob</th>\n",
       "      <th>avg_temp_glob</th>\n",
       "    </tr>\n",
       "  </thead>\n",
       "  <tbody>\n",
       "    <tr>\n",
       "      <th>0</th>\n",
       "      <td>1849</td>\n",
       "      <td>Lagos</td>\n",
       "      <td>Nigeria</td>\n",
       "      <td>25.98</td>\n",
       "      <td>1849</td>\n",
       "      <td>7.98</td>\n",
       "    </tr>\n",
       "    <tr>\n",
       "      <th>1</th>\n",
       "      <td>1850</td>\n",
       "      <td>Lagos</td>\n",
       "      <td>Nigeria</td>\n",
       "      <td>25.87</td>\n",
       "      <td>1850</td>\n",
       "      <td>7.90</td>\n",
       "    </tr>\n",
       "    <tr>\n",
       "      <th>2</th>\n",
       "      <td>1851</td>\n",
       "      <td>Lagos</td>\n",
       "      <td>Nigeria</td>\n",
       "      <td>26.10</td>\n",
       "      <td>1851</td>\n",
       "      <td>8.18</td>\n",
       "    </tr>\n",
       "    <tr>\n",
       "      <th>3</th>\n",
       "      <td>1852</td>\n",
       "      <td>Lagos</td>\n",
       "      <td>Nigeria</td>\n",
       "      <td>NaN</td>\n",
       "      <td>1852</td>\n",
       "      <td>8.10</td>\n",
       "    </tr>\n",
       "    <tr>\n",
       "      <th>4</th>\n",
       "      <td>1853</td>\n",
       "      <td>Lagos</td>\n",
       "      <td>Nigeria</td>\n",
       "      <td>NaN</td>\n",
       "      <td>1853</td>\n",
       "      <td>8.04</td>\n",
       "    </tr>\n",
       "  </tbody>\n",
       "</table>\n",
       "</div>"
      ],
      "text/plain": [
       "   year_city   city  country  avg_temp_city  year_glob  avg_temp_glob\n",
       "0       1849  Lagos  Nigeria          25.98       1849           7.98\n",
       "1       1850  Lagos  Nigeria          25.87       1850           7.90\n",
       "2       1851  Lagos  Nigeria          26.10       1851           8.18\n",
       "3       1852  Lagos  Nigeria            NaN       1852           8.10\n",
       "4       1853  Lagos  Nigeria            NaN       1853           8.04"
      ]
     },
     "execution_count": 38,
     "metadata": {},
     "output_type": "execute_result"
    }
   ],
   "source": [
    "#read first five values of the datasets\n",
    "combined_data = pd.read_csv('data.csv')\n",
    "combined_data.head()"
   ]
  },
  {
   "cell_type": "code",
   "execution_count": 50,
   "metadata": {},
   "outputs": [],
   "source": [
    "#Get the moving average for both local and global average temperatures"
   ]
  },
  {
   "cell_type": "code",
   "execution_count": 46,
   "metadata": {},
   "outputs": [
    {
     "data": {
      "text/html": [
       "<div>\n",
       "<style scoped>\n",
       "    .dataframe tbody tr th:only-of-type {\n",
       "        vertical-align: middle;\n",
       "    }\n",
       "\n",
       "    .dataframe tbody tr th {\n",
       "        vertical-align: top;\n",
       "    }\n",
       "\n",
       "    .dataframe thead th {\n",
       "        text-align: right;\n",
       "    }\n",
       "</style>\n",
       "<table border=\"1\" class=\"dataframe\">\n",
       "  <thead>\n",
       "    <tr style=\"text-align: right;\">\n",
       "      <th></th>\n",
       "      <th>year_city</th>\n",
       "      <th>city</th>\n",
       "      <th>country</th>\n",
       "      <th>avg_temp_city</th>\n",
       "      <th>year_glob</th>\n",
       "      <th>avg_temp_glob</th>\n",
       "      <th>ma_local</th>\n",
       "      <th>ma_global</th>\n",
       "    </tr>\n",
       "  </thead>\n",
       "  <tbody>\n",
       "    <tr>\n",
       "      <th>160</th>\n",
       "      <td>2009</td>\n",
       "      <td>Lagos</td>\n",
       "      <td>Nigeria</td>\n",
       "      <td>27.53</td>\n",
       "      <td>2009</td>\n",
       "      <td>9.51</td>\n",
       "      <td>27.1420</td>\n",
       "      <td>9.3245</td>\n",
       "    </tr>\n",
       "    <tr>\n",
       "      <th>161</th>\n",
       "      <td>2010</td>\n",
       "      <td>Lagos</td>\n",
       "      <td>Nigeria</td>\n",
       "      <td>27.79</td>\n",
       "      <td>2010</td>\n",
       "      <td>9.70</td>\n",
       "      <td>27.1785</td>\n",
       "      <td>9.3480</td>\n",
       "    </tr>\n",
       "    <tr>\n",
       "      <th>162</th>\n",
       "      <td>2011</td>\n",
       "      <td>Lagos</td>\n",
       "      <td>Nigeria</td>\n",
       "      <td>27.35</td>\n",
       "      <td>2011</td>\n",
       "      <td>9.52</td>\n",
       "      <td>27.2020</td>\n",
       "      <td>9.3650</td>\n",
       "    </tr>\n",
       "    <tr>\n",
       "      <th>163</th>\n",
       "      <td>2012</td>\n",
       "      <td>Lagos</td>\n",
       "      <td>Nigeria</td>\n",
       "      <td>27.15</td>\n",
       "      <td>2012</td>\n",
       "      <td>9.51</td>\n",
       "      <td>27.2230</td>\n",
       "      <td>9.3985</td>\n",
       "    </tr>\n",
       "    <tr>\n",
       "      <th>164</th>\n",
       "      <td>2013</td>\n",
       "      <td>Lagos</td>\n",
       "      <td>Nigeria</td>\n",
       "      <td>27.36</td>\n",
       "      <td>2013</td>\n",
       "      <td>9.61</td>\n",
       "      <td>27.2460</td>\n",
       "      <td>9.4355</td>\n",
       "    </tr>\n",
       "  </tbody>\n",
       "</table>\n",
       "</div>"
      ],
      "text/plain": [
       "     year_city   city  country  avg_temp_city  year_glob  avg_temp_glob  \\\n",
       "160       2009  Lagos  Nigeria          27.53       2009           9.51   \n",
       "161       2010  Lagos  Nigeria          27.79       2010           9.70   \n",
       "162       2011  Lagos  Nigeria          27.35       2011           9.52   \n",
       "163       2012  Lagos  Nigeria          27.15       2012           9.51   \n",
       "164       2013  Lagos  Nigeria          27.36       2013           9.61   \n",
       "\n",
       "     ma_local  ma_global  \n",
       "160   27.1420     9.3245  \n",
       "161   27.1785     9.3480  \n",
       "162   27.2020     9.3650  \n",
       "163   27.2230     9.3985  \n",
       "164   27.2460     9.4355  "
      ]
     },
     "execution_count": 46,
     "metadata": {},
     "output_type": "execute_result"
    }
   ],
   "source": [
    "combined_data['ma_local'] = combined_data['avg_temp_city'].rolling(window=20).mean()\n",
    "\n",
    "combined_data['ma_global'] = combined_data['avg_temp_glob'].rolling(window=20).mean()\n",
    "combined_data.tail()\n"
   ]
  },
  {
   "cell_type": "code",
   "execution_count": 51,
   "metadata": {},
   "outputs": [],
   "source": [
    "#plot the 'avg_temp_city', 'avg_temp_glob' against the years"
   ]
  },
  {
   "cell_type": "code",
   "execution_count": 52,
   "metadata": {},
   "outputs": [
    {
     "data": {
      "image/png": "[encoded data removed]",
      "text/plain": [
       "<Figure size 432x288 with 1 Axes>"
      ]
     },
     "metadata": {
      "needs_background": "light"
     },
     "output_type": "display_data"
    }
   ],
   "source": [
    "plt.plot(combined_data['year_city'], \n",
    "         combined_data['avg_temp_city'], \n",
    "         label='Lagos temp', color= 'm')\n",
    "plt.plot(combined_data['year_glob'], \n",
    "         combined_data['avg_temp_glob'], \n",
    "         label='Global temp', color= 'c')\n",
    "plt.legend()\n",
    "plt.title('Weather Trends')\n",
    "plt.xlabel('Year')\n",
    "plt.ylabel('Temperature (°C)')\n",
    "plt.show()"
   ]
  },
  {
   "cell_type": "markdown",
   "metadata": {},
   "source": [
    "Moving averages are used to smooth out data to make it easier to observe long term trends and not get lost in\n",
    "daily fluctuations. If I plot the average temperature in both global and local dataset, the chart looks too volatile\n",
    "to interpret, like is shown above.\n",
    "\n",
    "Using a moving average, I can both smooth out the daily volatility and to observe the long term trend. For\n",
    "calculating the moving averages I used the .rolling() method on the average temperatures column."
   ]
  },
  {
   "cell_type": "code",
   "execution_count": 53,
   "metadata": {},
   "outputs": [
    {
     "data": {
      "image/png": "[encoded data removed]",
      "text/plain": [
       "<Figure size 432x288 with 1 Axes>"
      ]
     },
     "metadata": {
      "needs_background": "light"
     },
     "output_type": "display_data"
    }
   ],
   "source": [
    "plt.plot(combined_data['year_city'], \n",
    "         combined_data['ma_local'], \n",
    "         label='Lagos temp', color= 'm')\n",
    "plt.plot(combined_data['year_glob'], \n",
    "         combined_data['ma_global'], \n",
    "         label='Global temp', color= 'c')\n",
    "plt.legend()\n",
    "plt.title('Weather Trends')\n",
    "plt.xlabel('Year')\n",
    "plt.ylabel('Temperature (°C)')\n",
    "plt.show()"
   ]
  },
  {
   "cell_type": "markdown",
   "metadata": {},
   "source": [
    "### Conclusion\n",
    "• Over time, it seems that the city’s temperatures have change similarly than the global average.\n",
    "\n",
    "• Over time, both types of temperature (global and local) show an upward trend, that is the world is\n",
    "getting hotter.\n",
    "\n",
    "• According to the chart, it can be told that the upwards trend has been consistent over a long time ago.\n",
    "\n",
    "• Lagos city’s temperature has been consistently higher than the global average over time."
   ]
  }
 ],
 "metadata": {
  "kernelspec": {
   "display_name": "Python 3",
   "language": "python",
   "name": "python3"
  },
  "language_info": {
   "codemirror_mode": {
    "name": "ipython",
    "version": 3
   },
   "file_extension": ".py",
   "mimetype": "text/x-python",
   "name": "python",
   "nbconvert_exporter": "python",
   "pygments_lexer": "ipython3",
   "version": "3.7.6"
  }
 },
 "nbformat": 4,
 "nbformat_minor": 4
}
